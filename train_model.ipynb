{
  "nbformat": 4,
  "nbformat_minor": 0,
  "metadata": {
    "colab": {
      "name": "train_model.ipynb",
      "provenance": [],
      "collapsed_sections": [],
      "authorship_tag": "ABX9TyOQbWvt+Fbg4OuaFbgwXt/O",
      "include_colab_link": true
    },
    "kernelspec": {
      "name": "python3",
      "display_name": "Python 3"
    },
    "language_info": {
      "name": "python"
    },
    "accelerator": "GPU",
    "gpuClass": "standard"
  },
  "cells": [
    {
      "cell_type": "markdown",
      "metadata": {
        "id": "view-in-github",
        "colab_type": "text"
      },
      "source": [
        "<a href=\"https://colab.research.google.com/github/Hennakk/helmet_detector/blob/main/train_model.ipynb\" target=\"_parent\"><img src=\"https://colab.research.google.com/assets/colab-badge.svg\" alt=\"Open In Colab\"/></a>"
      ]
    },
    {
      "cell_type": "code",
      "execution_count": null,
      "metadata": {
        "colab": {
          "base_uri": "https://localhost:8080/"
        },
        "id": "P1NGdqNno-A0",
        "outputId": "df8ba988-c701-4f53-db64-c91ddf0e3ebf"
      },
      "outputs": [
        {
          "output_type": "stream",
          "name": "stdout",
          "text": [
            "Mounted at /content/gdrive\n"
          ]
        }
      ],
      "source": [
        "from google.colab import drive\n",
        "drive.mount('/content/gdrive')"
      ]
    },
    {
      "cell_type": "code",
      "source": [
        "%cd /content/gdrive/MyDrive/project/HELMET_DETECTION/"
      ],
      "metadata": {
        "colab": {
          "base_uri": "https://localhost:8080/"
        },
        "id": "sFG4y34nDsX_",
        "outputId": "39bd4fc4-e739-4e2c-8458-3f668a1f3b16"
      },
      "execution_count": null,
      "outputs": [
        {
          "output_type": "stream",
          "name": "stdout",
          "text": [
            "/content/gdrive/MyDrive/project/HELMET_DETECTION\n"
          ]
        }
      ]
    },
    {
      "cell_type": "code",
      "source": [
        "! ls"
      ],
      "metadata": {
        "id": "-UbeT1EEGRg3",
        "colab": {
          "base_uri": "https://localhost:8080/"
        },
        "outputId": "60d1f5f2-1ea5-45a8-efab-fea1895d8332"
      },
      "execution_count": null,
      "outputs": [
        {
          "output_type": "stream",
          "name": "stdout",
          "text": [
            "annotations\t\t   requirements.txt\n",
            "archive.zip\t\t   res10_300x300_ssd_iter_140000.caffemodel\n",
            "deploy.prototxt.txt\t   saved_model.pb\n",
            "haarcascade_upperbody.xml  test\n",
            "helmet.h5\t\t   train\n",
            "images\t\t\t   Train_XmlFIle.py\n",
            "Project_Helmet_Dijon.py    webcam_helmet_detect.py\n"
          ]
        }
      ]
    },
    {
      "cell_type": "code",
      "source": [
        "import xml.etree.ElementTree as ET #FOR READING XML FILES\n",
        "import os  #FOR PATH BASED OPERATION\n",
        "import cv2 # FOR IMAGE BASED OPERATION\n",
        "import numpy as np\n",
        "from sklearn.model_selection import train_test_split\n",
        "import tensorflow\n",
        "from tensorflow.keras.preprocessing.image import ImageDataGenerator\n",
        "from tensorflow.keras.applications import MobileNetV2\n",
        "from google.colab.patches import cv2_imshow"
      ],
      "metadata": {
        "id": "fl7-gkkJ72HL"
      },
      "execution_count": null,
      "outputs": []
    },
    {
      "cell_type": "code",
      "source": [
        "DIRECTORY = r\"annotations\"\n",
        "DIRECTORY2 = r\"images\""
      ],
      "metadata": {
        "id": "nuZD94mzElKE"
      },
      "execution_count": null,
      "outputs": []
    },
    {
      "cell_type": "markdown",
      "source": [],
      "metadata": {
        "id": "vNz9cHC8B0v-"
      }
    },
    {
      "cell_type": "code",
      "source": [
        "#Defining some functions\n",
        "def showBox(frame,xmin,ymin,xmax,ymax,Switch):\n",
        "    if Switch == 'helmet':\n",
        "        color = (0,255,0)\n",
        "    else:\n",
        "        color = (0,0,255)\n",
        "    cv2.rectangle(frame,(xmin,ymin),(xmax,ymax),color,2)\n",
        "\n",
        "###############################################\n",
        "#READING THE DATASET WHICH IS IN .XML FORMAT\n",
        "# WE WILl CREATE TWO LIST THAT WILL STORE OUR DATASET\n",
        "HELMET = []\n",
        "NO_HELMET = []\n",
        "\n",
        "\n",
        "for xml_file in os.listdir(DIRECTORY):\n",
        "  path = os.path.join(DIRECTORY,xml_file)\n",
        "\n",
        "  tree = ET.parse(path)\n",
        "  root = tree.getroot()\n",
        "\n",
        "  img_path = os.path.join(DIRECTORY2,str(root.find('filename').text))\n",
        "  #print(img_path)\n",
        "  frame = cv2.imread(img_path)\n",
        "  cv2_imshow(frame)\n",
        "  \n",
        "  for member in root.findall('object'):\n",
        "    Switch  = member.find('name').text\n",
        "    for i in member.findall('bndbox'):\n",
        "      xmin = int(i.find('xmin').text) - 20\n",
        "      ymin = int(i.find('ymin').text) - 20\n",
        "      xmax = int(i.find('xmax').text) + 20\n",
        "      ymax = int(i.find('ymax').text) + 20\n",
        "\n",
        "      if xmin < 0 :\n",
        "        xmin = int(i.find('xmin').text)\n",
        "      if ymin < 0 :\n",
        "        ymin = int(i.find('ymin').text)\n",
        "      #print(path)\n",
        "\n",
        "      if Switch == 'helmet':\n",
        "        temp = frame[ymin:ymax,xmin:xmax]\n",
        "        if temp.shape[0] != 0 and temp.shape[1] != 0 :\n",
        "          temp = cv2.resize(temp,(224,224))\n",
        "          HELMET.append(temp)\n",
        "          #print('Added 1 image to HELMET LIST')\n",
        "      else:\n",
        "        temp = frame[ymin:ymax,xmin:xmax]\n",
        "        if temp.shape[0] != 0 and temp.shape[1] != 0 :\n",
        "          temp = cv2.resize(temp,(224,224))\n",
        "          NO_HELMET.append(temp)\n",
        "          #print('Added 1 image to NO_HELMET LIST')\n",
        "        #     showBox(frame,xmin,ymin,xmax,ymax,Switch)\n",
        "        # cv2.imshow('hi',frame)\n",
        "        # cv2.waitKey(200)\n"
      ],
      "metadata": {
        "id": "AjGXANh279QN"
      },
      "execution_count": null,
      "outputs": []
    },
    {
      "cell_type": "code",
      "source": [
        "for xml_file in os.listdir(DIRECTORY):\n",
        "  path = os.path.join(DIRECTORY,xml_file)\n",
        "\n",
        "  tree = ET.parse(path)\n",
        "  root = tree.getroot()\n",
        "\n",
        "  img_path = os.path.join(DIRECTORY2,str(root.find('filename').text))\n",
        "  frame = cv2.imread(img_path)\n",
        "  print(frame)\n",
        "  for member in root.findall('object'):\n",
        "\n",
        "    Switch  = member.find('name').text\n",
        "    for i in member.findall('bndbox'):\n",
        "      xmin = int(i.find('xmin').text) - 20\n",
        "      ymin = int(i.find('ymin').text) - 20\n",
        "      xmax = int(i.find('xmax').text) + 20\n",
        "      ymax = int(i.find('ymax').text) + 20\n",
        "\n",
        "      if xmin < 0 :\n",
        "        xmin = int(i.find('xmin').text)\n",
        "      if ymin < 0 :\n",
        "        ymin = int(i.find('ymin').text)\n",
        "\n",
        "      if Switch == 'helmet':\n",
        "        temp = frame[ymin:ymax,xmin:xmax]\n",
        "        if temp.shape[0] != 0 and temp.shape[1] != 0 :\n",
        "            temp = cv2.resize(temp,(224,224))\n",
        "            HELMET.append(temp)\n",
        "        # print('Added 1 image to HELMET LIST')\n",
        "      else:\n",
        "        temp = frame[ymin:ymax,xmin:xmax]\n",
        "        if temp.shape[0] != 0 and temp.shape[1] != 0 :\n",
        "          temp = cv2.resize(temp,(224,224))\n",
        "          NO_HELMET.append(temp)\n",
        "        # print('Added 1 image to NO_HELMET LIST')\n",
        "#     showBox(frame,xmin,ymin,xmax,ymax,Switch)\n",
        "# cv2.imshow('hi',frame)\n",
        "# cv2.waitKey(200)"
      ],
      "metadata": {
        "id": "XR39CublmwTW"
      },
      "execution_count": null,
      "outputs": []
    },
    {
      "cell_type": "code",
      "source": [
        "labels = [] #Helmet image will be labeled as 1 and non helmet will be labeled as 0\n",
        "img_data = []\n",
        "\n",
        "for i in HELMET:\n",
        "  j = cv2.cvtColor(i,cv2.COLOR_BGR2RGB)\n",
        "  j = tensorflow.keras.applications.mobilenet_v2.preprocess_input(j)\n",
        "  img_data.append(j)\n",
        "  labels.append(1.)\n",
        "\n",
        "for i in NO_HELMET:\n",
        "  j = cv2.cvtColor(i,cv2.COLOR_BGR2RGB)\n",
        "  j = tensorflow.keras.applications.mobilenet_v2.preprocess_input(j)\n",
        "  img_data.append(j)\n",
        "  labels.append(0.)\n",
        "\n",
        "\n",
        "#converting to numpy array to pass it to the training model\n",
        "img_data=np.array(img_data) # converting to numpy FORMAT\n",
        "labels = np.array([labels]).T\n",
        "\n",
        "#splitting our data into training data and validation data\n",
        "(trainX, testX, trainY, testY) = train_test_split(img_data, labels,\n",
        "\ttest_size=0.20, stratify=labels, random_state=42)\n",
        "\n",
        "#This allows us to do generate similar images with different attributes\n",
        "\n",
        "aug = ImageDataGenerator(\n",
        "\trotation_range=20,\n",
        "\tzoom_range=0.15,\n",
        "\twidth_shift_range=0.2,\n",
        "\theight_shift_range=0.2,\n",
        "\tshear_range=0.15,\n",
        "\thorizontal_flip=True,\n",
        "\tfill_mode=\"nearest\")\n"
      ],
      "metadata": {
        "id": "DtZT4etl8Ap3"
      },
      "execution_count": null,
      "outputs": []
    },
    {
      "cell_type": "code",
      "source": [
        "\n",
        "baseModel = MobileNetV2(weights=\"imagenet\", include_top=False,\n",
        "\tinput_tensor=tensorflow.keras.layers.Input(shape=(224, 224, 3)))\n",
        "\n",
        "\n",
        "#importing necessary models and optimizers for model\n",
        "from tensorflow.keras.layers import AveragePooling2D\n",
        "from tensorflow.keras.layers import Dropout\n",
        "from tensorflow.keras.layers import Flatten\n",
        "from tensorflow.keras.layers import Dense\n",
        "from tensorflow.keras.layers import Input\n",
        "from tensorflow.keras.models import Model\n",
        "from tensorflow.keras.optimizers import Adam\n",
        "\n",
        "# construct the head of the model that will be placed on top of the\n",
        "# the base model\n",
        "headModel = baseModel.output\n",
        "headModel = AveragePooling2D(pool_size=(7, 7))(headModel)\n",
        "headModel = Flatten(name=\"flatten\")(headModel)\n",
        "headModel = Dense(128, activation=\"relu\")(headModel)\n",
        "headModel = Dropout(0.5)(headModel)\n",
        "headModel = Dense(1, activation=\"sigmoid\")(headModel)"
      ],
      "metadata": {
        "id": "4PPl5STR83od",
        "colab": {
          "base_uri": "https://localhost:8080/"
        },
        "outputId": "50bb1f94-78e3-445b-9165-a2433512486b"
      },
      "execution_count": null,
      "outputs": [
        {
          "output_type": "stream",
          "name": "stderr",
          "text": [
            "WARNING:tensorflow:`input_shape` is undefined or non-square, or `rows` is not in [96, 128, 160, 192, 224]. Weights for input shape (224, 224) will be loaded as the default.\n"
          ]
        },
        {
          "output_type": "stream",
          "name": "stdout",
          "text": [
            "Downloading data from https://storage.googleapis.com/tensorflow/keras-applications/mobilenet_v2/mobilenet_v2_weights_tf_dim_ordering_tf_kernels_1.0_224_no_top.h5\n",
            "9412608/9406464 [==============================] - 0s 0us/step\n",
            "9420800/9406464 [==============================] - 0s 0us/step\n"
          ]
        }
      ]
    },
    {
      "cell_type": "code",
      "source": [
        "model = Model(inputs=baseModel.input, outputs=headModel)\n",
        "\n",
        "for layer in baseModel.layers:\n",
        "  layer.trainable = False\n",
        "\n",
        "#Initializing different parameters\n",
        "learning_rate = 1e-4\n",
        "epochs = 20\n",
        "batchsize = 32\n",
        "\n",
        "opt = Adam(lr=learning_rate, decay= learning_rate / epochs)\n",
        "model.compile(loss=\"binary_crossentropy\", optimizer=opt,\n",
        "\tmetrics=[\"accuracy\"])\n",
        "\n",
        "history=model.fit(aug.flow(trainX,trainY,batch_size=batchsize),\n",
        "                    steps_per_epoch=len(trainX)//batchsize,\n",
        "                    validation_data=(testX,testY),\n",
        "                    validation_steps=len(testX)//batchsize,\n",
        "                    epochs=epochs\n",
        "                   )\n",
        "\n",
        "import matplotlib.pyplot as plt\n",
        "plt.figure()\n",
        "plt.plot(np.arange(0,epochs),history.history[\"loss\"],label=\"train_loss\")\n",
        "plt.plot(np.arange(0,epochs),history.history[\"val_loss\"],label=\"val_loss\")\n",
        "plt.plot(np.arange(0,epochs),history.history[\"accuracy\"],label=\"train_acc\")\n",
        "plt.plot(np.arange(0,epochs),history.history[\"val_accuracy\"],label=\"val_acc\")\n",
        "plt.title(\"RESULT\")\n",
        "plt.legend()\n",
        "plt.show()\n",
        "\n",
        "model.save(\"helmet.h5\")\n",
        "cv2.destroyAllWindows()"
      ],
      "metadata": {
        "id": "ijb2TceK84VR",
        "colab": {
          "base_uri": "https://localhost:8080/",
          "height": 1000
        },
        "outputId": "945ef43b-e7c4-4128-ccae-2bb558924277"
      },
      "execution_count": null,
      "outputs": [
        {
          "output_type": "stream",
          "name": "stderr",
          "text": [
            "/usr/local/lib/python3.7/dist-packages/keras/optimizer_v2/adam.py:105: UserWarning: The `lr` argument is deprecated, use `learning_rate` instead.\n",
            "  super(Adam, self).__init__(name, **kwargs)\n"
          ]
        },
        {
          "output_type": "stream",
          "name": "stdout",
          "text": [
            "Epoch 1/20\n",
            "131/131 [==============================] - 61s 357ms/step - loss: 0.4666 - accuracy: 0.7905 - val_loss: 0.2949 - val_accuracy: 0.8761\n",
            "Epoch 2/20\n",
            "131/131 [==============================] - 46s 351ms/step - loss: 0.3163 - accuracy: 0.8618 - val_loss: 0.2535 - val_accuracy: 0.8885\n",
            "Epoch 3/20\n",
            "131/131 [==============================] - 45s 342ms/step - loss: 0.2807 - accuracy: 0.8811 - val_loss: 0.2398 - val_accuracy: 0.8961\n",
            "Epoch 4/20\n",
            "131/131 [==============================] - 47s 360ms/step - loss: 0.2842 - accuracy: 0.8835 - val_loss: 0.2263 - val_accuracy: 0.9009\n",
            "Epoch 5/20\n",
            "131/131 [==============================] - 45s 340ms/step - loss: 0.2656 - accuracy: 0.8916 - val_loss: 0.2178 - val_accuracy: 0.9028\n",
            "Epoch 6/20\n",
            "131/131 [==============================] - 47s 359ms/step - loss: 0.2460 - accuracy: 0.8986 - val_loss: 0.2088 - val_accuracy: 0.9152\n",
            "Epoch 7/20\n",
            "131/131 [==============================] - 45s 344ms/step - loss: 0.2405 - accuracy: 0.8976 - val_loss: 0.2080 - val_accuracy: 0.9142\n",
            "Epoch 8/20\n",
            "131/131 [==============================] - 47s 355ms/step - loss: 0.2311 - accuracy: 0.9053 - val_loss: 0.2044 - val_accuracy: 0.9152\n",
            "Epoch 9/20\n",
            "131/131 [==============================] - 44s 338ms/step - loss: 0.2294 - accuracy: 0.9032 - val_loss: 0.2008 - val_accuracy: 0.9161\n",
            "Epoch 10/20\n",
            "131/131 [==============================] - 46s 353ms/step - loss: 0.2240 - accuracy: 0.9087 - val_loss: 0.2023 - val_accuracy: 0.9133\n",
            "Epoch 11/20\n",
            "131/131 [==============================] - 45s 341ms/step - loss: 0.2182 - accuracy: 0.9111 - val_loss: 0.1980 - val_accuracy: 0.9180\n",
            "Epoch 12/20\n",
            "131/131 [==============================] - 46s 352ms/step - loss: 0.2157 - accuracy: 0.9152 - val_loss: 0.1915 - val_accuracy: 0.9237\n",
            "Epoch 13/20\n",
            "131/131 [==============================] - 48s 363ms/step - loss: 0.2079 - accuracy: 0.9188 - val_loss: 0.1902 - val_accuracy: 0.9218\n",
            "Epoch 14/20\n",
            "131/131 [==============================] - 44s 338ms/step - loss: 0.2043 - accuracy: 0.9128 - val_loss: 0.1942 - val_accuracy: 0.9218\n",
            "Epoch 15/20\n",
            "131/131 [==============================] - 46s 350ms/step - loss: 0.1933 - accuracy: 0.9210 - val_loss: 0.1866 - val_accuracy: 0.9237\n",
            "Epoch 16/20\n",
            "131/131 [==============================] - 45s 345ms/step - loss: 0.1951 - accuracy: 0.9260 - val_loss: 0.1848 - val_accuracy: 0.9276\n",
            "Epoch 17/20\n",
            "131/131 [==============================] - 46s 348ms/step - loss: 0.1948 - accuracy: 0.9176 - val_loss: 0.1855 - val_accuracy: 0.9276\n",
            "Epoch 18/20\n",
            "131/131 [==============================] - 44s 337ms/step - loss: 0.1994 - accuracy: 0.9171 - val_loss: 0.1818 - val_accuracy: 0.9304\n",
            "Epoch 19/20\n",
            "131/131 [==============================] - 46s 350ms/step - loss: 0.1934 - accuracy: 0.9219 - val_loss: 0.1857 - val_accuracy: 0.9256\n",
            "Epoch 20/20\n",
            "131/131 [==============================] - 44s 337ms/step - loss: 0.1858 - accuracy: 0.9236 - val_loss: 0.1796 - val_accuracy: 0.9266\n"
          ]
        },
        {
          "output_type": "display_data",
          "data": {
            "text/plain": [
              "<Figure size 432x288 with 1 Axes>"
            ],
            "image/png": "[encoded data removed]"
          },
          "metadata": {
            "needs_background": "light"
          }
        }
      ]
    },
    {
      "cell_type": "code",
      "source": [
        "score = model.evaluate(testX, testY)\n",
        "print('Test score:', score[0])\n",
        "print('Test accuracy:', score[1])"
      ],
      "metadata": {
        "id": "j-P5bmcdhr73",
        "colab": {
          "base_uri": "https://localhost:8080/"
        },
        "outputId": "c0062f3e-8e3f-46e9-fc36-81f3a27fecd1"
      },
      "execution_count": null,
      "outputs": [
        {
          "output_type": "stream",
          "name": "stdout",
          "text": [
            "33/33 [==============================] - 2s 59ms/step - loss: 0.1796 - accuracy: 0.9266\n",
            "Test score: 0.17957265675067902\n",
            "Test accuracy: 0.9265967607498169\n"
          ]
        }
      ]
    },
    {
      "cell_type": "code",
      "source": [],
      "metadata": {
        "id": "K8SSNDOe55Q1"
      },
      "execution_count": null,
      "outputs": []
    }
  ]
}